{
 "cells": [
  {
   "cell_type": "code",
   "execution_count": 1,
   "id": "a9e25689",
   "metadata": {},
   "outputs": [
    {
     "name": "stderr",
     "output_type": "stream",
     "text": [
      "C:\\Users\\Rashmi\\Anaconda\\envs\\torch-gpu\\lib\\site-packages\\tqdm\\auto.py:22: TqdmWarning: IProgress not found. Please update jupyter and ipywidgets. See https://ipywidgets.readthedocs.io/en/stable/user_install.html\n",
      "  from .autonotebook import tqdm as notebook_tqdm\n"
     ]
    }
   ],
   "source": [
    "import random\n",
    "import numpy as np\n",
    "import argparse\n",
    "import os\n",
    "from os import path\n",
    "from tqdm import tqdm\n",
    "import time\n",
    "import copy\n",
    "import torch\n",
    "from torch import nn\n",
    "from gan_training.utils import return_data_test\n",
    "import matplotlib.pyplot as plt\n",
    "import seaborn as sns\n",
    "import pandas as pd\n",
    "from gan_training import utils\n",
    "from gan_training.train import Trainer, update_average\n",
    "from gan_training.logger import Logger\n",
    "from gan_training.checkpoints import CheckpointIO\n",
    "from gan_training.inputs import get_dataset\n",
    "from gan_training.distributions import get_ydist, get_zdist\n",
    "from gan_training.eval_test import DisentEvaluator, Evaluator\n",
    "from gan_training.config import (\n",
    "    load_config, build_models, build_optimizers, build_lr_scheduler,\n",
    ")\n"
   ]
  },
  {
   "cell_type": "code",
   "execution_count": null,
   "id": "71f9f7dd",
   "metadata": {},
   "outputs": [],
   "source": [
    "\n",
    "# Create missing directories\n",
    "if not path.exists(out_dir):\n",
    "    os.makedirs(out_dir)\n",
    "if not path.exists(checkpoint_dir):\n",
    "    os.makedirs(checkpoint_dir)\n",
    "\n",
    "# Logger\n",
    "checkpoint_io = CheckpointIO(\n",
    "    checkpoint_dir=checkpoint_dir\n",
    ")\n",
    "\n",
    "device = torch.device(\"cuda:0\" if is_cuda else \"cpu\")\n",
    "\n",
    "train_dataset = get_dataset(\n",
    "    name=config['data']['type'],\n",
    "    data_dir=args.dset_dir,\n",
    "    size=args.image_size,\n",
    ")\n",
    "train_loader = torch.utils.data.DataLoader(\n",
    "        train_dataset,\n",
    "        batch_size=batch_size,\n",
    "        num_workers=config['training']['nworkers'],\n",
    "        shuffle=True, pin_memory=True, sampler=None, drop_last=True\n",
    ")\n",
    "\n",
    "        \n",
    "# Create models\n",
    "dvae, fvae, generator, discriminator = build_models(config, args)\n",
    "data_loader = return_data_test(args)\n"
   ]
  }
 ],
 "metadata": {
  "kernelspec": {
   "display_name": "Python 3 (ipykernel)",
   "language": "python",
   "name": "python3"
  },
  "language_info": {
   "codemirror_mode": {
    "name": "ipython",
    "version": 3
   },
   "file_extension": ".py",
   "mimetype": "text/x-python",
   "name": "python",
   "nbconvert_exporter": "python",
   "pygments_lexer": "ipython3",
   "version": "3.8.10"
  }
 },
 "nbformat": 4,
 "nbformat_minor": 5
}
